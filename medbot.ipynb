{
 "cells": [
  {
   "cell_type": "code",
   "execution_count": null,
   "metadata": {},
   "outputs": [],
   "source": [
    "pip install numpy pandas scikit-learn nltk imbalanced-learn"
   ]
  },
  {
   "cell_type": "code",
   "execution_count": null,
   "metadata": {},
   "outputs": [],
   "source": [
    "import pandas as pd\n",
    "import numpy as np\n",
    "import re\n",
    "import nltk\n",
    "from sklearn.model_selection import train_test_split\n",
    "from sklearn.feature_extraction.text import TfidfVectorizer\n",
    "from sklearn.svm import SVC\n",
    "from sklearn.metrics import accuracy_score, classification_report\n",
    "from nltk.corpus import stopwords\n",
    "from nltk .tokenize import word_tokenize\n",
    "from nltk.stem import WordNetLemmatizer\n",
    "\n",
    "nltk.download(\"wordnet\")\n",
    "nltk.download(\"stopwords\")\n",
    "nltk.download(\"punkt\")"
   ]
  },
  {
   "cell_type": "code",
   "execution_count": null,
   "metadata": {},
   "outputs": [],
   "source": [
    "\n",
    "df = pd.read_csv(r\"C:\\Users\\Shreyam Sharma\\Desktop\\dataset\\first_aid_data.csv\", skiprows=1, names=[\"Emergency Condition\", \"Symptoms\", \"First Aid Steps\"])\n",
    "\n",
    "\n",
    "df.dropna(inplace=True)\n",
    "\n",
    "\n",
    "print(df.head())"
   ]
  },
  {
   "cell_type": "code",
   "execution_count": null,
   "metadata": {},
   "outputs": [],
   "source": [
    "\n",
    "def preprocess_text(text):\n",
    "    text = text.lower()\n",
    "    text = re.sub(r'[^a-zA-Z\\s]', \"\", text) \n",
    " \n",
    "\n",
    "\n",
    "    words = word_tokenize(text)\n",
    "    lemmatizer = WordNetLemmatizer()\n",
    "    words= words = [lemmatizer.lemmatize(word) for word in words if word not in stopwords.words(\"english\")]\n",
    "    return ' '.join(words)\n",
    "\n",
    "df['Symptoms'] = df['Symptoms'].apply(preprocess_text)\n",
    "df[\"Emergency Condition\"] = df[\"Emergency Condition\"].str.strip().str.lower()\n",
    "\n",
    "\n",
    "df\n",
    "\n",
    "\n"
   ]
  },
  {
   "cell_type": "code",
   "execution_count": null,
   "metadata": {},
   "outputs": [],
   "source": [
    "print(df.columns)"
   ]
  },
  {
   "cell_type": "code",
   "execution_count": null,
   "metadata": {},
   "outputs": [],
   "source": [
    "vectorizer = TfidfVectorizer(max_features=2000, ngram_range=(1,2))\n",
    "x = vectorizer.fit_transform(df[\"Symptoms\"])\n",
    "y = df[\"Emergency Condition\"]\n"
   ]
  },
  {
   "cell_type": "code",
   "execution_count": null,
   "metadata": {},
   "outputs": [],
   "source": [
    "from sklearn.model_selection import StratifiedKFold\n",
    "\n",
    "\n",
    "\n",
    "\n",
    "\n",
    "skf = StratifiedKFold(n_splits=5, shuffle=True, random_state=42)\n",
    "\n",
    "\n",
    "\n",
    "\n",
    "\n",
    "for train_index, test_index in skf.split(x, y):\n",
    "    x_train, x_test = x[train_index], x[test_index]\n",
    "    y_train, y_test = y.iloc[train_index], y.iloc[test_index]\n",
    "\n",
    " \n",
    "    svm_model = SVC(kernel='linear', C=1, random_state=42)\n",
    "    svm_model.fit(x_train, y_train)\n",
    "    y_pred = svm_model.predict(x_test)\n",
    "\n",
    "   \n",
    "    print(classification_report(y_test, y_pred))"
   ]
  },
  {
   "cell_type": "code",
   "execution_count": null,
   "metadata": {},
   "outputs": [],
   "source": [
    "def predict_emergency(symptoms_text):\n",
    "    symptoms_text = preprocess_text(symptoms_text)\n",
    "    input_vector= vectorizer.transform([symptoms_text])\n",
    "    prediction = svm_model.predict(input_vector)\n",
    "    first_aid = df[df['Emergency Condition']==prediction[0]]['First Aid Steps'].values[0]\n",
    "    return prediction[0], first_aid\n",
    "\n"
   ]
  },
  {
   "cell_type": "code",
   "execution_count": null,
   "metadata": {},
   "outputs": [],
   "source": [
    "import ipywidgets as widgets\n",
    "from IPython.display import display\n",
    "\n",
    "\n",
    "symptoms_input = widgets.Text(description=\"Symptoms:\")\n",
    "submit_button = widgets.Button(description=\"Submit\")\n",
    "\n",
    "\n",
    "output = widgets.Output()\n",
    "\n",
    "\n",
    "display(symptoms_input, submit_button, output)\n",
    "\n",
    "def on_submit(_):\n",
    "    with output:\n",
    "        output.clear_output()  \n",
    "        symptoms_text = symptoms_input.value.strip()\n",
    "\n",
    "        if not symptoms_text:\n",
    "            print(\"Please enter symptoms before submitting.\")\n",
    "            return\n",
    "\n",
    "        if symptoms_text.lower() == 'exit':\n",
    "            print(\"Exiting program...\")\n",
    "            return\n",
    "\n",
    "        try:\n",
    "            predicted_condition, first_aid_steps = predict_emergency(symptoms_text)\n",
    "            print(f\"\\nPredicted Emergency Condition: {predicted_condition}\")\n",
    "            print(f\"Recommended First Aid Steps: {first_aid_steps}\\n\")\n",
    "        except IndexError:\n",
    "            print(\"No matching medical condition found. Please try different symptoms.\\n\")\n",
    "\n",
    "\n",
    "submit_button.on_click(on_submit)\n"
   ]
  },
  {
   "cell_type": "code",
   "execution_count": null,
   "metadata": {},
   "outputs": [],
   "source": []
  }
 ],
 "metadata": {
  "kernelspec": {
   "display_name": "Python 3",
   "language": "python",
   "name": "python3"
  },
  "language_info": {
   "codemirror_mode": {
    "name": "ipython",
    "version": 3
   },
   "file_extension": ".py",
   "mimetype": "text/x-python",
   "name": "python",
   "nbconvert_exporter": "python",
   "pygments_lexer": "ipython3",
   "version": "3.12.6"
  }
 },
 "nbformat": 4,
 "nbformat_minor": 2
}
